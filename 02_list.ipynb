{
  "nbformat": 4,
  "nbformat_minor": 0,
  "metadata": {
    "colab": {
      "provenance": [],
      "authorship_tag": "ABX9TyNAsEkQRp4GQ75EJ4ZPja0p",
      "include_colab_link": true
    },
    "kernelspec": {
      "name": "python3",
      "display_name": "Python 3"
    },
    "language_info": {
      "name": "python"
    }
  },
  "cells": [
    {
      "cell_type": "markdown",
      "metadata": {
        "id": "view-in-github",
        "colab_type": "text"
      },
      "source": [
        "<a href=\"https://colab.research.google.com/github/shanzytrac/todo_py/blob/main/02_list.ipynb\" target=\"_parent\"><img src=\"https://colab.research.google.com/assets/colab-badge.svg\" alt=\"Open In Colab\"/></a>"
      ]
    },
    {
      "cell_type": "code",
      "execution_count": null,
      "metadata": {
        "id": "HqfMJqOcieX3"
      },
      "outputs": [],
      "source": [
        "print(\"01_add_many_number_md\") #\n",
        "\n",
        "def add_number (numbers)= >int:\n",
        "    num:int = 0\n",
        "    for I in numbers:\n",
        "        num + = i\n",
        "    return num\n",
        "\n",
        "def main():\n",
        "            numbers:list[int] = [1,2,3,4,5]\n",
        "            sum = add_number(numbers)\n",
        "            print(sum)\n",
        " if __name__ == '__main__':\n",
        "    main()"
      ]
    },
    {
      "cell_type": "code",
      "source": [
        "print(\"02_double_list\")  #\n",
        "\n",
        "def main():\n",
        "    numbers:list[int] = [1,2,3,4,5]\n",
        "    for i in range (len)(numbers):\n",
        "        index = numbers[1]\n",
        "        numbers(i) = index * 2\n",
        "    print(numbers)\n",
        "if __name__ == '__main__':\n",
        "   main()"
      ],
      "metadata": {
        "id": "VpJsyrMMjapV"
      },
      "execution_count": null,
      "outputs": []
    },
    {
      "cell_type": "code",
      "source": [
        "print(\"04_fllowing_with_data_structures\")  #\n",
        "\n",
        "def add_three_copies(lst , data):\n",
        "    for i in range(3):\n",
        "        lst .append(data)\n",
        "def main():\n",
        "        message = input('Enter a message to copy. ')\n",
        "        lst=[]\n",
        "     print(\"Befor list: ,lst\")\n",
        "     add_three_copies(list , message)\n",
        "     print(\"After lst: ,lst\")\n",
        "\n",
        "if __name__ == '__main__':\n",
        "      main()"
      ],
      "metadata": {
        "id": "EfVdn4HHjjeM"
      },
      "execution_count": null,
      "outputs": []
    },
    {
      "cell_type": "code",
      "source": [
        "print(\"05_get_first_element\")   #\n",
        "\n",
        "def get_first_element(list):\n",
        "    print(lst[0])\n",
        "\n",
        "def get_lst():\n",
        "    lst = []\n",
        "    elem:str = input(\"Enter an element to add to the list. \")\n",
        "    while elem != \"\":\n",
        "        lst.append(elem)\n",
        "        elem = input(\"Enter an element to add to the list. \")\n",
        "     return lst\n",
        " def main():\n",
        "    lst = get_lst()\n",
        "    get_first_element(lst)\n",
        "if __name__ == '__main__':\n",
        "      main()"
      ],
      "metadata": {
        "id": "J8px3gTfjumN"
      },
      "execution_count": null,
      "outputs": []
    },
    {
      "cell_type": "code",
      "source": [
        "print(\"06_get_last_element\")  #\n",
        "\n",
        "\n",
        " def  get_last_elementI(lst):\n",
        "    print(lst[-1])\n",
        " def get_lst():\n",
        "    lst = []\n",
        "    elem:str = input(\"Enter an element to add to the list. \")\n",
        "    while elem != \"\":\n",
        "        lst.append(elem)\n",
        "        elem = input(\"Enter an element to add to the list. \")\n",
        "     return lst\n",
        "\n",
        " def main():\n",
        "    lst = get_lst()\n",
        "    get_last_element(lst)     #r,l,t,r,o,p,r,k pir khali\n",
        "\n",
        "if __name__ == '__main__':\n",
        "      main()"
      ],
      "metadata": {
        "id": "7APDFaVFj5-3"
      },
      "execution_count": null,
      "outputs": []
    },
    {
      "cell_type": "code",
      "source": [
        "print(\"07_get_list\")  #\n",
        "\n",
        "def main():\n",
        "    lst = []\n",
        "    val = input(\"Enter a value to add to the list. \")\n",
        "    while val:\n",
        "        lst.append(val)\n",
        "        vel = input(\"Enter a value to add to the list. \")\n",
        "    print(\"Here's is the list: \",lst)\n",
        "\n",
        "if __name__ == '__main__':\n",
        "      main()\n"
      ],
      "metadata": {
        "id": "_IbWJ-XrkGAF"
      },
      "execution_count": null,
      "outputs": []
    },
    {
      "cell_type": "code",
      "source": [
        "print(\"08_shorten\")   #\n",
        "\n",
        " MAX_LENTH:int = 3\n",
        "def shorten(lst):\n",
        "    while lenth (lst) >= MAX_LENTH:\n",
        "     last_element = lst.pop()\n",
        "     print (last-element)\n",
        "\n",
        "def get_lst():\n",
        "    lst = []\n",
        "    element = input(\"Enter an element to add to the list. \")\n",
        "    while element != \"\":\n",
        "        last.appand(element)\n",
        "        element = input(\"enter an element to add to the list. \")\n",
        "    return lst\n",
        "def main():\n",
        "    lst get_lst()\n",
        "    shorten(lst)\n",
        "if __name__ == '__main__':\n",
        "      main()"
      ],
      "metadata": {
        "id": "G2-DHafVkNn5"
      },
      "execution_count": null,
      "outputs": []
    }
  ]
}