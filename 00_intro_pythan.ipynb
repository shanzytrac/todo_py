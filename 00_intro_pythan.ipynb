{
  "nbformat": 4,
  "nbformat_minor": 0,
  "metadata": {
    "colab": {
      "provenance": [],
      "authorship_tag": "ABX9TyOj2pLkTZP4N+Xh8NoIW3ly",
      "include_colab_link": true
    },
    "kernelspec": {
      "name": "python3",
      "display_name": "Python 3"
    },
    "language_info": {
      "name": "python"
    }
  },
  "cells": [
    {
      "cell_type": "markdown",
      "metadata": {
        "id": "view-in-github",
        "colab_type": "text"
      },
      "source": [
        "<a href=\"https://colab.research.google.com/github/shanzytrac/todo_py/blob/main/00_intro_pythan.ipynb\" target=\"_parent\"><img src=\"https://colab.research.google.com/assets/colab-badge.svg\" alt=\"Open In Colab\"/></a>"
      ]
    },
    {
      "cell_type": "code",
      "execution_count": null,
      "metadata": {
        "id": "bJjIcF8-vTXO"
      },
      "outputs": [],
      "source": []
    },
    {
      "cell_type": "code",
      "source": [
        "print(\"01_add_two_numbers\")\n",
        "\n",
        "def add():\n",
        "    print(\"this application for add two numbers\")\n",
        "    first_number=int(input(\"inter your first_number. \"))\n",
        "    second_number=int(input(\"Enter your second_number. \"))\n",
        "    total=int(first_number + second_number)\n",
        "    print(f'the total sum of{first_number}and{second_number}is{total}')\n",
        "if __name__==\"__main__\":\n",
        "   add()"
      ],
      "metadata": {
        "colab": {
          "base_uri": "https://localhost:8080/"
        },
        "id": "udlP6fZ0vUW_",
        "outputId": "f61dd00a-b7f7-435d-e9e1-e82773e0eb12"
      },
      "execution_count": 3,
      "outputs": [
        {
          "output_type": "stream",
          "name": "stdout",
          "text": [
            "01_add_two_numbers\n",
            "this application for add two numbers\n",
            "inter your first_number2\n",
            "Enter your second_number5\n",
            "the total sum of2and5is7\n"
          ]
        }
      ]
    },
    {
      "cell_type": "code",
      "source": [],
      "metadata": {
        "id": "p4045jUl07AR"
      },
      "execution_count": null,
      "outputs": []
    },
    {
      "cell_type": "code",
      "source": [
        "print(\"02_agreement_bot\")\n",
        "\n",
        "def bot():\n",
        "        animal =str(input(\"What their favourite animal is? \"))\n",
        "        print(f'My favourite animal is also {animal}!')\n",
        "if __name__=='__main__':\n",
        "    bot()"
      ],
      "metadata": {
        "id": "_gYF0wtdwRAJ"
      },
      "execution_count": null,
      "outputs": []
    },
    {
      "cell_type": "code",
      "source": [
        "print(\"03_fahrenheit_to_celsius\")\n",
        "def temp():\n",
        "    print(\"This code for converting fahrenheit_to_celsius\")\n",
        "    fahrenheit_degree=float(input(\"Enter your fahrenheit degree. \"))\n",
        "    celsius_degree = (fahrenheit_degree - 32) * 5.0/9.0\n",
        "    print(f'temperature(fahrenheit_degree) F=(celsius_degree) c')\n",
        "if __name__=='__main__':\n",
        "   temp()\n"
      ],
      "metadata": {
        "colab": {
          "base_uri": "https://localhost:8080/"
        },
        "id": "3gF5sb6rwcv7",
        "outputId": "e09d38ed-18b8-40ef-98a2-7040ac8ff400"
      },
      "execution_count": 6,
      "outputs": [
        {
          "output_type": "stream",
          "name": "stdout",
          "text": [
            "03_fahrenheit_to_celsius\n",
            "This code for converting fahrenheit_to_celsius\n",
            "Enter your fahrenheit degree54\n",
            "temperature(fahrenheit_degree)=(celsius_degree)\n"
          ]
        }
      ]
    },
    {
      "cell_type": "code",
      "source": [
        "print(\"04_how_old_are_they\")\n",
        "\n",
        "def add_ages():\n",
        "  anthon:int = 21\n",
        "  bech:int = anthon + 6\n",
        "  chen:int = bech + 20\n",
        "  drew:int = chen + anthon\n",
        "  ethan:int = chen\n",
        "  print(\"Anthon is \" + str(anthon))\n",
        "  print(\"Bech is \" + str(bech))\n",
        "  print(\"Chen is \" + str(chen))\n",
        "  print(\"Drew is \" + str(drew))\n",
        "  print(\"Ethan is \" +str(ethan))\n",
        "if __name__=='__main__':\n",
        "  add_ages()\n",
        "\n",
        "\n",
        "\n"
      ],
      "metadata": {
        "id": "HZpY2RcDwiS4"
      },
      "execution_count": null,
      "outputs": []
    },
    {
      "cell_type": "code",
      "source": [
        "print(\"05_triangle_perimeter.\")\n",
        "def triangle():\n",
        "  print(\"This code is about perimeter of triangle.\")\n",
        "  side1:float = float(input(\"Enter your first side no of triangle. \"))\n",
        "  side2:float = float(input(\"Enter your second side no of triangle. \"))\n",
        "  side3:float = float(input(\"Enter your third side no of triangle.  \"))\n",
        "  total:float = float(side1 + side2 + side3)\n",
        "  print(f'The perimeter of the triangle is {total}')\n",
        "if  __name__=='__main__':\n",
        "  triangle()\n",
        "\n"
      ],
      "metadata": {
        "id": "vC8GnqPB9flA"
      },
      "execution_count": null,
      "outputs": []
    },
    {
      "cell_type": "code",
      "source": [
        "print(\"06_square_number\")\n",
        "\n",
        "def square():\n",
        "  print(\"This code is about square of given number\")\n",
        "  num1:int = int(input(\"Enter any number and i will give u a square value. \"))\n",
        "  print(f'The squar of {num1} is {num1 ** 2}')\n",
        "if __name__=='__main__':\n",
        "  square()\n"
      ],
      "metadata": {
        "colab": {
          "base_uri": "https://localhost:8080/"
        },
        "id": "v-4xecRwFK5P",
        "outputId": "11dff83b-6751-4337-9643-f539f79ac771"
      },
      "execution_count": 2,
      "outputs": [
        {
          "output_type": "stream",
          "name": "stdout",
          "text": [
            "06_square_number\n",
            "This code is about square of given number\n",
            "Enter any number and i will give u a square value. 5\n",
            "The squar of 5 is 25\n"
          ]
        }
      ]
    },
    {
      "cell_type": "code",
      "source": [],
      "metadata": {
        "id": "1yhs49_iZo8u"
      },
      "execution_count": null,
      "outputs": []
    },
    {
      "cell_type": "code",
      "source": [],
      "metadata": {
        "id": "TP23OAN_8jKP"
      },
      "execution_count": null,
      "outputs": []
    }
  ]
}